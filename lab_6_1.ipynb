{
  "nbformat": 4,
  "nbformat_minor": 0,
  "metadata": {
    "colab": {
      "provenance": []
    },
    "kernelspec": {
      "name": "python3",
      "display_name": "Python 3"
    },
    "language_info": {
      "name": "python"
    }
  },
  "cells": [
    {
      "cell_type": "code",
      "execution_count": 2,
      "metadata": {
        "id": "E6BTWU8WVTVq"
      },
      "outputs": [],
      "source": [
        "import numpy as np\n",
        "from sklearn import datasets\n",
        "from sklearn.model_selection import train_test_split\n",
        "from sklearn.svm import SVC\n",
        "from sklearn.ensemble import RandomForestClassifier\n",
        "from sklearn.metrics import accuracy_score\n",
        "from scipy.stats import pearsonr"
      ]
    },
    {
      "cell_type": "markdown",
      "source": [
        "Завдання 1. Завантажити набір даних Iris з бібліотеки scikit-learn."
      ],
      "metadata": {
        "id": "z-3QTWWAW5H-"
      }
    },
    {
      "cell_type": "markdown",
      "source": [],
      "metadata": {
        "id": "XMUlg4B6W-Ji"
      }
    },
    {
      "cell_type": "code",
      "source": [
        "iris = datasets.load_iris()\n",
        "X = iris.data\n",
        "y = iris.target\n",
        "\n",
        "features = iris.feature_names\n",
        "print(\"\\nСтатистика по ознаках:\\n\")\n",
        "print(\"Ознака\".ljust(25), \"Мін\", \"Макс\", \"Середнє\", \"СК\", \"Кореляція класу\")\n",
        "\n",
        "for index, feature in enumerate(features):\n",
        "    feature_data = X[:, index]\n",
        "    min_val = np.min(feature_data)\n",
        "    max_val = np.max(feature_data)\n",
        "    mean_val = np.mean(feature_data)\n",
        "    std_val = np.std(feature_data)\n",
        "    corr, _ = pearsonr(feature_data, y)\n",
        "\n",
        "    print(f\"{feature.ljust(25)} {min_val:.2f} {max_val:.2f} {mean_val:.2f} {std_val:.2f} {corr:.4f}\")\n",
        "\n",
        "print(\"\\nВідсутність пропущених значень атрибутів: \", np.all(np.isfinite(X)))\n",
        "print(\"Розподіл класів: \", np.bincount(y) / len(y) * 100)\n",
        "print(\"Автор: Р.А. Фішер\")\n",
        "print(\"Донор: Майкл Маршалл (MARSHALL%PLU@io.arc.nasa.gov)\")\n",
        "print(\"Дата: Липень 1988 року\")"
      ],
      "metadata": {
        "colab": {
          "base_uri": "https://localhost:8080/"
        },
        "id": "Rth4JzxnW17q",
        "outputId": "85076e1c-024e-452e-f9ae-6a97cc89355f"
      },
      "execution_count": 3,
      "outputs": [
        {
          "output_type": "stream",
          "name": "stdout",
          "text": [
            "\n",
            "Статистика по ознаках:\n",
            "\n",
            "Ознака                    Мін Макс Середнє СК Кореляція класу\n",
            "sepal length (cm)         4.30 7.90 5.84 0.83 0.7826\n",
            "sepal width (cm)          2.00 4.40 3.06 0.43 -0.4267\n",
            "petal length (cm)         1.00 6.90 3.76 1.76 0.9490\n",
            "petal width (cm)          0.10 2.50 1.20 0.76 0.9565\n",
            "\n",
            "Відсутність пропущених значень атрибутів:  True\n",
            "Розподіл класів:  [33.33333333 33.33333333 33.33333333]\n",
            "Автор: Р.А. Фішер\n",
            "Донор: Майкл Маршалл (MARSHALL%PLU@io.arc.nasa.gov)\n",
            "Дата: Липень 1988 року\n"
          ]
        }
      ]
    },
    {
      "cell_type": "markdown",
      "source": [
        "Завдання 2. Розділити дані на тренувальний та тестовий набори."
      ],
      "metadata": {
        "id": "rMJzAIe6XG6k"
      }
    },
    {
      "cell_type": "code",
      "source": [
        "X_train, X_test, y_train, y_test = train_test_split(X, y, test_size=0.3, random_state=42)"
      ],
      "metadata": {
        "id": "7RSm_fsMXLBN"
      },
      "execution_count": 4,
      "outputs": []
    },
    {
      "cell_type": "markdown",
      "source": [
        "Завдання 3. Застосувати алгоритм SVM для класифікації даних та визначити його точність."
      ],
      "metadata": {
        "id": "XgUea1gdXP_I"
      }
    },
    {
      "cell_type": "code",
      "source": [
        "svm = SVC(kernel='linear', C=1)\n",
        "svm.fit(X_train, y_train)\n",
        "y_pred_svm = svm.predict(X_test)\n",
        "accuracy_svm = accuracy_score(y_test, y_pred_svm)"
      ],
      "metadata": {
        "id": "ekdShdJgXVYc"
      },
      "execution_count": 5,
      "outputs": []
    },
    {
      "cell_type": "markdown",
      "source": [
        "Завдання 4. Застосувати Random Forest для класифікації даних та визначити його точність."
      ],
      "metadata": {
        "id": "yc0VGCRjXZjg"
      }
    },
    {
      "cell_type": "code",
      "source": [
        "rf = RandomForestClassifier(n_estimators=100, random_state=42)\n",
        "rf.fit(X_train, y_train)\n",
        "y_pred_rf = rf.predict(X_test)\n",
        "accuracy_rf = accuracy_score(y_test, y_pred_rf)\n",
        "\n",
        "print(\"\\nРезультати класифікації:\")\n",
        "print(f\"Точність SVM: {accuracy_svm:.2f}\")\n",
        "print(f\"Точність Random Forest: {accuracy_rf:.2f}\")"
      ],
      "metadata": {
        "colab": {
          "base_uri": "https://localhost:8080/"
        },
        "id": "Kq51epWJXXon",
        "outputId": "ad346a66-14a6-44d8-dafc-50852faeeb7f"
      },
      "execution_count": 6,
      "outputs": [
        {
          "output_type": "stream",
          "name": "stdout",
          "text": [
            "\n",
            "Результати класифікації:\n",
            "Точність SVM: 1.00\n",
            "Точність Random Forest: 1.00\n"
          ]
        }
      ]
    },
    {
      "cell_type": "markdown",
      "source": [
        "Завдання 5. Порівняти результати обох алгоритмів та обговорити їхню ефективність."
      ],
      "metadata": {
        "id": "_Cd-jUkQXdUE"
      }
    },
    {
      "cell_type": "code",
      "source": [
        "if accuracy_svm > accuracy_rf:\n",
        "    print(\"SVM показав кращу точність за Random Forest.\")\n",
        "elif accuracy_svm < accuracy_rf:\n",
        "    print(\"Random Forest показав кращу точність за SVM.\")\n",
        "else:\n",
        "    print(\"Точність алгоритмів однакова.\")"
      ],
      "metadata": {
        "colab": {
          "base_uri": "https://localhost:8080/"
        },
        "id": "nnCq_cdsXgPt",
        "outputId": "aadac3e7-ee64-44f8-8770-2ef8cfe2baf6"
      },
      "execution_count": 7,
      "outputs": [
        {
          "output_type": "stream",
          "name": "stdout",
          "text": [
            "Точність алгоритмів однакова.\n"
          ]
        }
      ]
    }
  ]
}