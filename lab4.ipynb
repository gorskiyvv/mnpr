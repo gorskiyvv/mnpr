{
  "nbformat": 4,
  "nbformat_minor": 0,
  "metadata": {
    "colab": {
      "provenance": []
    },
    "kernelspec": {
      "name": "python3",
      "display_name": "Python 3"
    },
    "language_info": {
      "name": "python"
    }
  },
  "cells": [
    {
      "cell_type": "markdown",
      "source": [
        "1. Завантажте файл Housing.csv. Виведіть перші 5 рядків."
      ],
      "metadata": {
        "id": "cBvPYRiSOm6B"
      }
    },
    {
      "cell_type": "code",
      "execution_count": 29,
      "metadata": {
        "colab": {
          "base_uri": "https://localhost:8080/"
        },
        "id": "gtzV_Xx-OSET",
        "outputId": "d10d0e95-11b2-44d9-f9ae-4456f3e162c4"
      },
      "outputs": [
        {
          "output_type": "stream",
          "name": "stdout",
          "text": [
            "      price  area  bedrooms  bathrooms  stories mainroad guestroom basement  \\\n",
            "0  13300000  7420         4          2        3      yes        no       no   \n",
            "1  12250000  8960         4          4        4      yes        no       no   \n",
            "2  12250000  9960         3          2        2      yes        no      yes   \n",
            "3  12215000  7500         4          2        2      yes        no      yes   \n",
            "4  11410000  7420         4          1        2      yes       yes      yes   \n",
            "\n",
            "  hotwaterheating airconditioning  parking prefarea furnishingstatus  \n",
            "0              no             yes        2      yes        furnished  \n",
            "1              no             yes        3       no        furnished  \n",
            "2              no              no        2      yes   semi-furnished  \n",
            "3              no             yes        3      yes        furnished  \n",
            "4              no             yes        2       no        furnished  \n"
          ]
        }
      ],
      "source": [
        "import pandas as pd\n",
        "import numpy as np\n",
        "import matplotlib.pyplot as plt\n",
        "from sklearn.model_selection import cross_val_score\n",
        "from sklearn.linear_model import LinearRegression\n",
        "\n",
        "\n",
        "\n",
        "data = pd.read_csv(\"Housing .csv\")\n",
        "print(data.head(5))"
      ]
    },
    {
      "cell_type": "markdown",
      "source": [
        "2. Зробіть новий датасет, який містить тільки ці стовпчики.\n",
        "\n",
        "columns = ['price', 'area', 'bedrooms', 'bathrooms']"
      ],
      "metadata": {
        "id": "hfOGD90oPNHs"
      }
    },
    {
      "cell_type": "code",
      "source": [
        "columns = ['price', 'area', 'bedrooms', 'bathrooms']\n",
        "data1 = data[columns]"
      ],
      "metadata": {
        "id": "LRAIa1IaOx-k"
      },
      "execution_count": 32,
      "outputs": []
    },
    {
      "cell_type": "markdown",
      "source": [
        "3. Проведіть попередній аналіз даних: вивчіть структуру даних, перевірте наявність відсутніх значень та інші особливості даних.\n",
        "Зробити це  по аналогії з попередніми роботами (визначити тип даних, перевірити наявність “-“, замінити на Nan, потім змінити тип даних на float, потім на середнє значення за стовпчиком. )"
      ],
      "metadata": {
        "id": "_yE3PovVO82N"
      }
    },
    {
      "cell_type": "code",
      "source": [
        "data1 = data1.replace(\"-\", np.nan)\n",
        "data1 = data1.astype(float)\n",
        "data1.fillna(data1.mean(), inplace=True)"
      ],
      "metadata": {
        "id": "iz_N9vdaO58e"
      },
      "execution_count": 33,
      "outputs": []
    },
    {
      "cell_type": "markdown",
      "source": [
        "4. Нормалізуйте дані перед подальшим використанням. Це може покращити швидкість навчання моделі та поліпшити її стабільність. Дані для лінійної регресії нормалізуються так, щоб їх середнє значення було близьким до 0, а стандартне відхилення - близьким до 1."
      ],
      "metadata": {
        "id": "JHO1UHE2PVbE"
      }
    },
    {
      "cell_type": "code",
      "source": [
        "\n",
        "means = data1.mean()\n",
        "stds = data1.std()\n",
        "data2 = (data1 - means) / stds"
      ],
      "metadata": {
        "id": "0j3F6Ck-O3xQ"
      },
      "execution_count": 36,
      "outputs": []
    },
    {
      "cell_type": "markdown",
      "source": [
        "5. Розділіть дані на навчальний та тестовий набори для подальшого оцінювання моделі."
      ],
      "metadata": {
        "id": "iSOxenyAPNAr"
      }
    },
    {
      "cell_type": "code",
      "source": [
        "mask = np.random.rand(len(data2)) < 0.8\n",
        "tdata = data2[mask]\n",
        "test_data = data2[~mask]\n",
        "\n",
        "X_train = tdata[['area', 'bedrooms', 'bathrooms']].values\n",
        "y_train = tdata['price'].values\n",
        "X_test = test_data[['area', 'bedrooms', 'bathrooms']].values\n",
        "y_test = test_data['price'].values\n",
        "\n"
      ],
      "metadata": {
        "id": "E-dcHeRuPhEV"
      },
      "execution_count": 37,
      "outputs": []
    },
    {
      "cell_type": "markdown",
      "source": [
        "6. Підготуйте дані: виберіть атрибути (площа, кількість ванних кімнат, кількість спалень) та цільову змінну (ціну на будинок)."
      ],
      "metadata": {
        "id": "b9QwwFvcPonn"
      }
    },
    {
      "cell_type": "code",
      "source": [
        "X_b_train = np.c_[np.ones((X_train.shape[0], 1)), X_train]"
      ],
      "metadata": {
        "id": "amrww_DdPsUN"
      },
      "execution_count": 38,
      "outputs": []
    },
    {
      "cell_type": "markdown",
      "source": [
        "7. Побудуйте модель лінійної регресії та навчіть її на навчальних даних."
      ],
      "metadata": {
        "id": "3mHocrz7P3lh"
      }
    },
    {
      "cell_type": "code",
      "source": [
        "X = data1[['area', 'bedrooms', 'bathrooms']]\n",
        "y = data1['price']"
      ],
      "metadata": {
        "id": "cxVamJQ5PzMQ"
      },
      "execution_count": 39,
      "outputs": []
    },
    {
      "cell_type": "markdown",
      "source": [
        "8. Оцініть якість моделі на тестових даних, використовуючи показники, такі як середньоквадратична помилка (RMSE) та коефіцієнт детермінації (R2).\n"
      ],
      "metadata": {
        "id": "Sd6geuMEQUuW"
      }
    },
    {
      "cell_type": "code",
      "source": [
        "model = LinearRegression()\n",
        "model.fit(X_train, y_train)\n",
        "y_pred = model.predict(X_test)\n",
        "\n",
        "mse = ((y_pred - y_test) ** 2).mean()\n",
        "rmse = np.sqrt(mse)\n",
        "print(f\"RMSE: {rmse}\")\n",
        "\n",
        "ss_res = ((y_test - y_pred) ** 2).sum()\n",
        "ss_tot = ((y_test - y_test.mean()) ** 2).sum()\n",
        "r2 = 1 - (ss_res / ss_tot)\n",
        "print(f\"R2: {r2}\")\n",
        "\n",
        "scores = cross_val_score(model, X, y, scoring=\"neg_mean_squared_error\", cv=5)\n",
        "rmse_scores = np.sqrt(-scores)\n",
        "\n",
        "print(f\"RMSE з кросс валідацією: {rmse_scores.mean()}\")\n"
      ],
      "metadata": {
        "colab": {
          "base_uri": "https://localhost:8080/"
        },
        "id": "G3vza9zyQdjs",
        "outputId": "b887cc89-ff0c-48b1-d05b-a5fe49976fb8"
      },
      "execution_count": 40,
      "outputs": [
        {
          "output_type": "stream",
          "name": "stdout",
          "text": [
            "RMSE: 0.6666459145598272\n",
            "R2: 0.5900279159133044\n",
            "RMSE з кросс валідацією: 1572125.3382021866\n"
          ]
        }
      ]
    },
    {
      "cell_type": "markdown",
      "source": [
        "9. Виконайте аналіз результатів та виведіть прогнозовані ціни на будинки для тестового набору даних."
      ],
      "metadata": {
        "id": "E-dUBE5OT0DW"
      }
    },
    {
      "cell_type": "code",
      "source": [
        "predicted_prices = y_pred * stds['price'] + means['price']\n",
        "\n",
        "for real, pred in zip(y_test, predicted_prices):\n",
        "    print(f\"Ціна: {real * stds['price'] + means['price']:.2f} | Прогнозована ціна: {pred:.2f}\")"
      ],
      "metadata": {
        "colab": {
          "base_uri": "https://localhost:8080/"
        },
        "id": "U3jLVa_xQdqT",
        "outputId": "f7038d80-ea64-4b58-8552-7eeecc8ed474"
      },
      "execution_count": 41,
      "outputs": [
        {
          "output_type": "stream",
          "name": "stdout",
          "text": [
            "Ціна: 12250000.00 | Прогнозована ціна: 9906041.14\n",
            "Ціна: 11410000.00 | Прогнозована ціна: 5738428.94\n",
            "Ціна: 10850000.00 | Прогнозована ціна: 7706524.21\n",
            "Ціна: 9870000.00 | Прогнозована ціна: 5990326.43\n",
            "Ціна: 8645000.00 | Прогнозована ціна: 5418391.85\n",
            "Ціна: 8295000.00 | Прогнозована ціна: 5996563.89\n",
            "Ціна: 8190000.00 | Прогнозована ціна: 7136050.48\n",
            "Ціна: 8080940.00 | Прогнозована ціна: 6322259.31\n",
            "Ціна: 8043000.00 | Прогнозована ціна: 6500810.18\n",
            "Ціна: 7700000.00 | Прогнозована ціна: 6129631.82\n",
            "Ціна: 7420000.00 | Прогнозована ціна: 6485251.80\n",
            "Ціна: 7210000.00 | Прогнозована ціна: 5951821.83\n",
            "Ціна: 6930000.00 | Прогнозована ціна: 6960293.50\n",
            "Ціна: 6790000.00 | Прогнозована ціна: 5210946.86\n",
            "Ціна: 6685000.00 | Прогнозована ціна: 5714452.27\n",
            "Ціна: 6650000.00 | Прогнозована ціна: 6137040.57\n",
            "Ціна: 6615000.00 | Прогнозована ціна: 5210946.86\n",
            "Ціна: 6510000.00 | Прогнозована ціна: 6785306.16\n",
            "Ціна: 6300000.00 | Прогнозована ціна: 6396346.81\n",
            "Ціна: 6300000.00 | Прогнозована ціна: 4900950.66\n",
            "Ціна: 6090000.00 | Прогнозована ціна: 6639272.93\n",
            "Ціна: 6083000.00 | Прогнозована ціна: 6700974.25\n",
            "Ціна: 5950000.00 | Прогнозована ціна: 4908359.41\n",
            "Ціна: 5810000.00 | Прогнозована ціна: 5148692.47\n",
            "Ціна: 5740000.00 | Прогнозована ціна: 4708612.74\n",
            "Ціна: 5740000.00 | Прогнозована ціна: 5877734.33\n",
            "Ціна: 5600000.00 | Прогнозована ціна: 8078422.54\n",
            "Ціна: 5565000.00 | Прогнозована ціна: 5449777.28\n",
            "Ціна: 5530000.00 | Прогнозована ціна: 5081293.74\n",
            "Ціна: 5460000.00 | Прогнозована ціна: 4896075.00\n",
            "Ціна: 5460000.00 | Прогнозована ціна: 6633716.36\n",
            "Ціна: 5250000.00 | Прогнозована ціна: 6152147.64\n",
            "Ціна: 5250000.00 | Прогнозована ціна: 5686278.13\n",
            "Ціна: 5243000.00 | Прогнозована ціна: 4771297.54\n",
            "Ціна: 5075000.00 | Прогнозована ціна: 4189421.13\n",
            "Ціна: 5040000.00 | Прогнозована ціна: 4975038.16\n",
            "Ціна: 4970000.00 | Прогнозована ціна: 5377333.27\n",
            "Ціна: 4935000.00 | Прогнозована ціна: 4733512.92\n",
            "Ціна: 4900000.00 | Прогнозована ціна: 4204528.20\n",
            "Ціна: 4900000.00 | Прогнозована ціна: 4990145.23\n",
            "Ціна: 4900000.00 | Прогнозована ціна: 4219056.13\n",
            "Ціна: 4900000.00 | Прогнозована ціна: 3641463.22\n",
            "Ціна: 4900000.00 | Прогнозована ціна: 3630350.10\n",
            "Ціна: 4900000.00 | Прогнозована ціна: 4251203.32\n",
            "Ціна: 4830000.00 | Прогнозована ціна: 5072092.78\n",
            "Ціна: 4620000.00 | Прогнозована ціна: 4071170.70\n",
            "Ціна: 4620000.00 | Прогнозована ціна: 5166494.36\n",
            "Ціна: 4620000.00 | Прогнозована ціна: 4386042.56\n",
            "Ціна: 4613000.00 | Прогнозована ціна: 5859502.03\n",
            "Ціна: 4550000.00 | Прогнозована ціна: 4515695.68\n",
            "Ціна: 4480000.00 | Прогнозована ціна: 4250543.31\n",
            "Ціна: 4403000.00 | Прогнозована ціна: 4337885.69\n",
            "Ціна: 4340000.00 | Прогнозована ціна: 5379104.58\n",
            "Ціна: 4270000.00 | Прогнозована ціна: 4426501.12\n",
            "Ціна: 4270000.00 | Прогнозована ціна: 3737487.40\n",
            "Ціна: 4270000.00 | Прогнозована ціна: 4604890.25\n",
            "Ціна: 4235000.00 | Прогнозована ціна: 4993560.03\n",
            "Ціна: 4200000.00 | Прогнозована ціна: 5206420.74\n",
            "Ціна: 4200000.00 | Прогнозована ціна: 5123213.15\n",
            "Ціна: 4165000.00 | Прогнозована ціна: 4323068.19\n",
            "Ціна: 4123000.00 | Прогнозована ціна: 4315369.87\n",
            "Ціна: 4095000.00 | Прогнозована ціна: 4144968.63\n",
            "Ціна: 4060000.00 | Прогнозована ціна: 4101095.27\n",
            "Ціна: 4025000.00 | Прогнозована ціна: 5010910.62\n",
            "Ціна: 4025000.00 | Прогнозована ціна: 4530513.18\n",
            "Ціна: 3990000.00 | Прогнозована ціна: 4930585.66\n",
            "Ціна: 3990000.00 | Прогнозована ціна: 3570790.53\n",
            "Ціна: 3885000.00 | Прогнозована ціна: 3470772.41\n",
            "Ціна: 3850000.00 | Прогнозована ціна: 4447556.08\n",
            "Ціна: 3780000.00 | Прогнозована ціна: 4315659.44\n",
            "Ціна: 3780000.00 | Прогнозована ціна: 3588120.23\n",
            "Ціна: 3773000.00 | Прогнозована ціна: 5586260.01\n",
            "Ціна: 3710000.00 | Прогнозована ціна: 3863725.71\n",
            "Ціна: 3710000.00 | Прогнозована ціна: 3570790.53\n",
            "Ціна: 3675000.00 | Прогнозована ціна: 4159786.13\n",
            "Ціна: 3675000.00 | Прогнозована ціна: 3404093.66\n",
            "Ціна: 3605000.00 | Прогнозована ціна: 3737487.40\n",
            "Ціна: 3500000.00 | Прогнозована ціна: 4008196.33\n",
            "Ціна: 3500000.00 | Прогнозована ціна: 5242621.85\n",
            "Ціна: 3500000.00 | Прогнозована ціна: 3418911.16\n",
            "Ціна: 3500000.00 | Прогнозована ціна: 3685915.72\n",
            "Ціна: 3500000.00 | Прогнозована ціна: 3371495.17\n",
            "Ціна: 3465000.00 | Прогнозована ціна: 4041246.13\n",
            "Ціна: 3430000.00 | Прогнозована ціна: 3250362.11\n",
            "Ціна: 3423000.00 | Прогнозована ціна: 3567086.16\n",
            "Ціна: 3290000.00 | Прогнозована ціна: 2996612.43\n",
            "Ціна: 3290000.00 | Прогнозована ціна: 3324739.18\n",
            "Ціна: 3255000.00 | Прогнозована ціна: 3526338.03\n",
            "Ціна: 3220000.00 | Прогнозована ціна: 3064772.93\n",
            "Ціна: 3220000.00 | Прогнозована ціна: 4130440.70\n",
            "Ціна: 3220000.00 | Прогнозована ціна: 3685915.72\n",
            "Ціна: 3150000.00 | Прогнозована ціна: 3367049.92\n",
            "Ціна: 3150000.00 | Прогнозована ціна: 5864088.12\n",
            "Ціна: 3087000.00 | Прогнозована ціна: 5071062.34\n",
            "Ціна: 3080000.00 | Прогнозована ціна: 3737487.40\n",
            "Ціна: 3010000.00 | Прогнозована ціна: 3730368.22\n",
            "Ціна: 3010000.00 | Прогнозована ціна: 4410491.44\n",
            "Ціна: 2961000.00 | Прогнозована ціна: 3181831.18\n",
            "Ціна: 2940000.00 | Прогнозована ціна: 3907888.64\n",
            "Ціна: 2695000.00 | Прогнозована ціна: 3552268.66\n",
            "Ціна: 2660000.00 | Прогнозована ціна: 4011900.71\n",
            "Ціна: 2653000.00 | Прогнозована ціна: 3250362.11\n",
            "Ціна: 2604000.00 | Прогнозована ціна: 3148491.80\n",
            "Ціна: 2450000.00 | Прогнозована ціна: 3719255.09\n",
            "Ціна: 2408000.00 | Прогнозована ціна: 3417058.98\n",
            "Ціна: 2380000.00 | Прогнозована ціна: 3279626.67\n",
            "Ціна: 2240000.00 | Прогнозована ціна: 3252503.87\n",
            "Ціна: 2100000.00 | Прогнозована ціна: 4101095.27\n",
            "Ціна: 1960000.00 | Прогнозована ціна: 4716311.06\n",
            "Ціна: 1750000.00 | Прогнозована ціна: 3411502.41\n"
          ]
        }
      ]
    },
    {
      "cell_type": "markdown",
      "source": [
        "Частина 2. Визначте аналітично коефіцієнти лінійної регресії (ваги моделі) для цієї задачі, використовуючи формулу для спрощеного аналітичного рішення лінійної регресії."
      ],
      "metadata": {
        "id": "xumNL779UH4E"
      }
    },
    {
      "cell_type": "code",
      "source": [
        "X_b = np.c_[np.ones((X_train.shape[0], 1)), X_train]\n",
        "theta_best = np.linalg.inv(X_b.T.dot(X_b)).dot(X_b.T).dot(y_train)\n",
        "\n",
        "print(f\"Вільний член (bias): {theta_best[0]}\")\n",
        "print(f\"Вага для площі: {theta_best[1]}\")\n",
        "print(f\"Вага для кількості спалень: {theta_best[2]}\")\n",
        "print(f\"Вага для кількості ванних кімнат: {theta_best[3]}\")\n"
      ],
      "metadata": {
        "colab": {
          "base_uri": "https://localhost:8080/"
        },
        "id": "Y0Uw0cHSULCK",
        "outputId": "3c9b216b-d203-4a76-d82a-8a86d6d86442"
      },
      "execution_count": 42,
      "outputs": [
        {
          "output_type": "stream",
          "name": "stdout",
          "text": [
            "Вільний член (bias): -0.0007675112307538763\n",
            "Вага для площі: 0.4297928519281854\n",
            "Вага для кількості спалень: 0.18136795253930815\n",
            "Вага для кількості ванних кімнат: 0.32210837334204295\n"
          ]
        }
      ]
    },
    {
      "cell_type": "markdown",
      "source": [
        "Частина 3: Візуалізація результатів та порівняння.\n",
        "Візуалізуйте дані та результати регресії: побудуйте графіки для ознайомлення з розподілом даних і лінійною регресійною моделлю."
      ],
      "metadata": {
        "id": "4i9K8nu5UXwf"
      }
    },
    {
      "cell_type": "code",
      "source": [
        "plt.scatter(X_test[:, 0], y_pred, color='blue', label='Прогнози моделі')\n",
        "plt.title('Лінійна регресія: Реальні дані vs Прогнози')\n",
        "plt.xlabel('Площа')\n",
        "plt.ylabel('Ціна')\n",
        "plt.legend()\n",
        "plt.show()\n"
      ],
      "metadata": {
        "id": "wqFCetomUXdE",
        "outputId": "8dc7e579-2454-4cb6-d80b-ad1521088c1c",
        "colab": {
          "base_uri": "https://localhost:8080/",
          "height": 472
        }
      },
      "execution_count": 43,
      "outputs": [
        {
          "output_type": "display_data",
          "data": {
            "text/plain": [
              "<Figure size 640x480 with 1 Axes>"
            ],
            "image/png": "[encoded data removed]"
          },
          "metadata": {}
        }
      ]
    },
    {
      "cell_type": "markdown",
      "source": [
        "Порівняйте отримані параметри (коефіцієнти) лінійної регресії з аналітичними результатами та оцініть, наскільки схожі вони."
      ],
      "metadata": {
        "id": "xijXSsjoUrW6"
      }
    },
    {
      "cell_type": "code",
      "source": [
        "X_b = np.c_[np.ones((X_train.shape[0], 1)), X_train]\n",
        "theta_best = np.linalg.inv(X_b.T.dot(X_b)).dot(X_b.T).dot(y_train)\n",
        "coef_sklearn = model.coef_\n",
        "intercept_sklearn = model.intercept_\n",
        "print(f\"Аналітично - Вільний член (bias): {theta_best[0]}, Коефіцієнти: {theta_best[1:]}\")\n",
        "print(f\"Sklearn - Вільний член (bias): {intercept_sklearn}, Коефіцієнти: {coef_sklearn}\")\n"
      ],
      "metadata": {
        "id": "9PfIhzF8UsDt",
        "outputId": "46ce459d-07f9-447f-d433-9ff8b5be2cd6",
        "colab": {
          "base_uri": "https://localhost:8080/"
        }
      },
      "execution_count": 44,
      "outputs": [
        {
          "output_type": "stream",
          "name": "stdout",
          "text": [
            "Аналітично - Вільний член (bias): -0.0007675112307538763, Коефіцієнти: [0.42979285 0.18136795 0.32210837]\n",
            "Sklearn - Вільний член (bias): -0.0007675112307535437, Коефіцієнти: [0.42979285 0.18136795 0.32210837]\n"
          ]
        }
      ]
    }
  ]
}