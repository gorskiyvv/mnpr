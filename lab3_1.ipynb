{
  "nbformat": 4,
  "nbformat_minor": 0,
  "metadata": {
    "colab": {
      "provenance": [],
      "toc_visible": true
    },
    "kernelspec": {
      "name": "python3",
      "display_name": "Python 3"
    },
    "language_info": {
      "name": "python"
    }
  },
  "cells": [
    {
      "cell_type": "code",
      "execution_count": 26,
      "metadata": {
        "colab": {
          "base_uri": "https://localhost:8080/"
        },
        "id": "yd8kwOFp9qBQ",
        "outputId": "aa9ac028-c3e2-401d-d05f-1be9093dcbcf"
      },
      "outputs": [
        {
          "output_type": "stream",
          "name": "stdout",
          "text": [
            "Файл прочитано успішно.\n"
          ]
        }
      ],
      "source": [
        "import pandas as pd\n",
        "import matplotlib.pyplot as plt\n",
        "\n",
        "try:\n",
        "    data = pd.read_csv('/content/Global YouTube Statistics.csv', encoding='ISO-8859-1')\n",
        "    print(\"Файл прочитано успішно.\")\n",
        "except Exception as exc:\n",
        "    print(f\"Помилка: {exc}\")\n"
      ]
    },
    {
      "cell_type": "markdown",
      "source": [
        "Завдання 2.Виведіть перші п'ять рядків (використовується метод head):"
      ],
      "metadata": {
        "id": "zJ215ZR79tUK"
      }
    },
    {
      "cell_type": "code",
      "source": [
        "print(data.head())"
      ],
      "metadata": {
        "colab": {
          "base_uri": "https://localhost:8080/"
        },
        "id": "q-VqF6OU-cLQ",
        "outputId": "58825929-89a2-44a5-c906-3880ff86394b"
      },
      "execution_count": 27,
      "outputs": [
        {
          "output_type": "stream",
          "name": "stdout",
          "text": [
            "   rank                    Youtuber  subscribers   video views  \\\n",
            "0     1                    T-Series    245000000  2.280000e+11   \n",
            "1     2              YouTube Movies    170000000  0.000000e+00   \n",
            "2     3                     MrBeast    166000000  2.836884e+10   \n",
            "3     4  Cocomelon - Nursery Rhymes    162000000  1.640000e+11   \n",
            "4     5                   SET India    159000000  1.480000e+11   \n",
            "\n",
            "           category                       Title  uploads        Country  \\\n",
            "0             Music                    T-Series    20082          India   \n",
            "1  Film & Animation               youtubemovies        1  United States   \n",
            "2     Entertainment                     MrBeast      741  United States   \n",
            "3         Education  Cocomelon - Nursery Rhymes      966  United States   \n",
            "4             Shows                   SET India   116536          India   \n",
            "\n",
            "  Abbreviation   channel_type  ...  subscribers_for_last_30_days  \\\n",
            "0           IN          Music  ...                     2000000.0   \n",
            "1           US          Games  ...                           NaN   \n",
            "2           US  Entertainment  ...                     8000000.0   \n",
            "3           US      Education  ...                     1000000.0   \n",
            "4           IN  Entertainment  ...                     1000000.0   \n",
            "\n",
            "   created_year  created_month  created_date  \\\n",
            "0        2006.0            Mar          13.0   \n",
            "1        2006.0            Mar           5.0   \n",
            "2        2012.0            Feb          20.0   \n",
            "3        2006.0            Sep           1.0   \n",
            "4        2006.0            Sep          20.0   \n",
            "\n",
            "   Gross tertiary education enrollment (%)    Population  Unemployment rate  \\\n",
            "0                                     28.1  1.366418e+09               5.36   \n",
            "1                                     88.2  3.282395e+08              14.70   \n",
            "2                                     88.2  3.282395e+08              14.70   \n",
            "3                                     88.2  3.282395e+08              14.70   \n",
            "4                                     28.1  1.366418e+09               5.36   \n",
            "\n",
            "   Urban_population   Latitude  Longitude  \n",
            "0       471031528.0  20.593684  78.962880  \n",
            "1       270663028.0  37.090240 -95.712891  \n",
            "2       270663028.0  37.090240 -95.712891  \n",
            "3       270663028.0  37.090240 -95.712891  \n",
            "4       471031528.0  20.593684  78.962880  \n",
            "\n",
            "[5 rows x 28 columns]\n"
          ]
        }
      ]
    },
    {
      "cell_type": "markdown",
      "source": [
        "Завдання 3. Виведіть розміри датасету (використовуйте метод shape):"
      ],
      "metadata": {
        "id": "6Pr3RFEAAhw7"
      }
    },
    {
      "cell_type": "code",
      "source": [
        "print(data.shape)"
      ],
      "metadata": {
        "colab": {
          "base_uri": "https://localhost:8080/"
        },
        "id": "myO5fxFAAZYn",
        "outputId": "db4e53b3-10df-4845-fcb0-a20ff2d7d09b"
      },
      "execution_count": 28,
      "outputs": [
        {
          "output_type": "stream",
          "name": "stdout",
          "text": [
            "(995, 28)\n"
          ]
        }
      ]
    },
    {
      "cell_type": "markdown",
      "source": [
        "Завдання 4. Перевірте, чи у всіх рядків вистачає даних: виведіть кількість пропусків  у кожному зі стовпців (використовуйте методи isna та sum)"
      ],
      "metadata": {
        "id": "ujWr0ByqAqiP"
      }
    },
    {
      "cell_type": "code",
      "source": [
        "print(data.isna().sum())\n",
        "data = data.fillna('NaN')"
      ],
      "metadata": {
        "colab": {
          "base_uri": "https://localhost:8080/"
        },
        "id": "70tiYBNWAqGj",
        "outputId": "05697728-7186-452d-ebc4-d48a2a37f631"
      },
      "execution_count": 29,
      "outputs": [
        {
          "output_type": "stream",
          "name": "stdout",
          "text": [
            "rank                                         0\n",
            "Youtuber                                     0\n",
            "subscribers                                  0\n",
            "video views                                  0\n",
            "category                                    46\n",
            "Title                                        0\n",
            "uploads                                      0\n",
            "Country                                    122\n",
            "Abbreviation                               122\n",
            "channel_type                                30\n",
            "video_views_rank                             1\n",
            "country_rank                               116\n",
            "channel_type_rank                           33\n",
            "video_views_for_the_last_30_days            56\n",
            "lowest_monthly_earnings                      0\n",
            "highest_monthly_earnings                     0\n",
            "lowest_yearly_earnings                       0\n",
            "highest_yearly_earnings                      0\n",
            "subscribers_for_last_30_days               337\n",
            "created_year                                 5\n",
            "created_month                                5\n",
            "created_date                                 5\n",
            "Gross tertiary education enrollment (%)    123\n",
            "Population                                 123\n",
            "Unemployment rate                          123\n",
            "Urban_population                           123\n",
            "Latitude                                   123\n",
            "Longitude                                  123\n",
            "dtype: int64\n"
          ]
        }
      ]
    },
    {
      "cell_type": "markdown",
      "source": [
        "Завдання 6. Замініть комірки з пропущеними значенями на середні за стовпцем. І тип даних на float\n"
      ],
      "metadata": {
        "id": "Jf-KPUgIA_fh"
      }
    },
    {
      "cell_type": "code",
      "source": [
        "for column in data.columns:\n",
        "    if data[column].dtype == 'float64' or data[column].dtype == 'int64':\n",
        "        data[column].fillna(data[column].mean(), inplace=True)\n"
      ],
      "metadata": {
        "id": "63-rKtlRA_O4"
      },
      "execution_count": 30,
      "outputs": []
    },
    {
      "cell_type": "markdown",
      "source": [
        "Завдання 6. Ще раз перевірте кількість пропусків."
      ],
      "metadata": {
        "id": "c4N4WuoEBKC9"
      }
    },
    {
      "cell_type": "code",
      "source": [
        "print(data.isna().sum())"
      ],
      "metadata": {
        "colab": {
          "base_uri": "https://localhost:8080/"
        },
        "id": "-rTAftBlBOpw",
        "outputId": "6a5f069c-1278-4ff9-9ee4-5cd367d70bd4"
      },
      "execution_count": 31,
      "outputs": [
        {
          "output_type": "stream",
          "name": "stdout",
          "text": [
            "rank                                       0\n",
            "Youtuber                                   0\n",
            "subscribers                                0\n",
            "video views                                0\n",
            "category                                   0\n",
            "Title                                      0\n",
            "uploads                                    0\n",
            "Country                                    0\n",
            "Abbreviation                               0\n",
            "channel_type                               0\n",
            "video_views_rank                           0\n",
            "country_rank                               0\n",
            "channel_type_rank                          0\n",
            "video_views_for_the_last_30_days           0\n",
            "lowest_monthly_earnings                    0\n",
            "highest_monthly_earnings                   0\n",
            "lowest_yearly_earnings                     0\n",
            "highest_yearly_earnings                    0\n",
            "subscribers_for_last_30_days               0\n",
            "created_year                               0\n",
            "created_month                              0\n",
            "created_date                               0\n",
            "Gross tertiary education enrollment (%)    0\n",
            "Population                                 0\n",
            "Unemployment rate                          0\n",
            "Urban_population                           0\n",
            "Latitude                                   0\n",
            "Longitude                                  0\n",
            "dtype: int64\n"
          ]
        }
      ]
    },
    {
      "cell_type": "markdown",
      "source": [
        "Завдання 7. . Перевірте, скільки унікальних країн представлено у колонці \"Country\""
      ],
      "metadata": {
        "id": "v32NVBsRBgf4"
      }
    },
    {
      "cell_type": "code",
      "source": [
        "uc = data[\"Country\"].nunique()\n",
        "print(uc)\n"
      ],
      "metadata": {
        "colab": {
          "base_uri": "https://localhost:8080/"
        },
        "id": "edBRCO69Bjbz",
        "outputId": "0f833401-7597-4464-f0fa-b05a230dca3b"
      },
      "execution_count": 32,
      "outputs": [
        {
          "output_type": "stream",
          "name": "stdout",
          "text": [
            "50\n"
          ]
        }
      ]
    },
    {
      "cell_type": "markdown",
      "source": [
        "Завдання 8. Побудуйте діаграму розподілу переглядів (використовуйте kind='hist'):"
      ],
      "metadata": {
        "id": "5l7e75lIBpMF"
      }
    },
    {
      "cell_type": "code",
      "source": [
        "data['video views'].hist()\n",
        "plt.xlabel('Кількість переглядів')\n",
        "plt.ylabel('Кількість каналів')\n",
        "plt.title('Розподіл переглядів відео')\n",
        "plt.show()"
      ],
      "metadata": {
        "colab": {
          "base_uri": "https://localhost:8080/",
          "height": 472
        },
        "id": "Dg8KLJtBBuqN",
        "outputId": "1d1d52bb-3696-444d-edc8-a16bfaac8d82"
      },
      "execution_count": 33,
      "outputs": [
        {
          "output_type": "display_data",
          "data": {
            "text/plain": [
              "<Figure size 640x480 with 1 Axes>"
            ],
            "image/png": "[encoded data removed]"
          },
          "metadata": {}
        }
      ]
    },
    {
      "cell_type": "markdown",
      "source": [
        "Завдання 9. Визначте максимальну, мінімальну, середню кількість переглядів (використовуйте методи max, min, mean)"
      ],
      "metadata": {
        "id": "K2fpGSGqC95m"
      }
    },
    {
      "cell_type": "code",
      "source": [
        "print(data['video views'].max())\n",
        "print(data['video views'].min())\n",
        "print(data['video views'].mean())"
      ],
      "metadata": {
        "colab": {
          "base_uri": "https://localhost:8080/"
        },
        "id": "dgVrrne2DBYo",
        "outputId": "12839791-03d4-4643-e20f-bd74a44b55eb"
      },
      "execution_count": 35,
      "outputs": [
        {
          "output_type": "stream",
          "name": "stdout",
          "text": [
            "228000000000.0\n",
            "0.0\n",
            "11039537052.03819\n"
          ]
        }
      ]
    },
    {
      "cell_type": "markdown",
      "source": [
        "Завдання 10.Знайдіть країну, де найбільше відео було завантажено на YouTube"
      ],
      "metadata": {
        "id": "sjniSnwwDLbG"
      }
    },
    {
      "cell_type": "code",
      "source": [
        "most_uploads_country = data.groupby(\"Country\").size().idxmax()\n",
        "print(most_uploads_country)\n"
      ],
      "metadata": {
        "colab": {
          "base_uri": "https://localhost:8080/"
        },
        "id": "ITPxQfaoDOeD",
        "outputId": "0556d2c2-73fb-41ab-95ef-f7d4f9225a95"
      },
      "execution_count": 36,
      "outputs": [
        {
          "output_type": "stream",
          "name": "stdout",
          "text": [
            "United States\n"
          ]
        }
      ]
    },
    {
      "cell_type": "markdown",
      "source": [
        "Завдання 11. Знайдіть відео (виведіть його назву) з найбільшою та найменшою кількістю завантажень uploads."
      ],
      "metadata": {
        "id": "WxJaEjRZDV7v"
      }
    },
    {
      "cell_type": "code",
      "source": [
        "max_uploads_video = data[data['uploads'] == data['uploads'].max()][\"Title\"]\n",
        "min_uploads_video = data[data['uploads'] == data['uploads'].min()][\"Title\"]\n",
        "\n",
        "print(\"Відео з найбільшою кількістю завантажень:\")\n",
        "print(max_uploads_video)\n",
        "print(\"\\nВідео з найменшою кількістю завантажень:\")\n",
        "print(min_uploads_video)\n",
        "\n"
      ],
      "metadata": {
        "colab": {
          "base_uri": "https://localhost:8080/"
        },
        "id": "J-GPpHh_Da4p",
        "outputId": "7705693c-7f17-4535-da74-154ac31cb2ad"
      },
      "execution_count": 42,
      "outputs": [
        {
          "output_type": "stream",
          "name": "stdout",
          "text": [
            "Відео з найбільшою кількістю завантажень:\n",
            "95    ABP NEWS\n",
            "Name: Title, dtype: object\n",
            "\n",
            "Відео з найменшою кількістю завантажень:\n",
            "5                         Music\n",
            "12                       Gaming\n",
            "57                   brightside\n",
            "73     Luis Arturo Villar Sudek\n",
            "102                        News\n",
            "113       T- Series Apna Punjab\n",
            "149                   luisfonsi\n",
            "166                frostdiamond\n",
            "180                Aditya Music\n",
            "190           Sandeepmaheshwari\n",
            "217       1MILLION Dance Studio\n",
            "226               Fede Vigevani\n",
            "236                  ChrisBrown\n",
            "273                     FaZeRug\n",
            "299                 Alan Becker\n",
            "340                        YOLO\n",
            "360           Minecraft - Topic\n",
            "377                  linkinpark\n",
            "386               FamilyGamesTV\n",
            "394         Homem Aranha player\n",
            "440              Masha e o Urso\n",
            "463            Alejandro Basalo\n",
            "468         Goodmythicalmorning\n",
            "476                 Ajay Sharma\n",
            "508            TheGameTheorists\n",
            "544        Doggy Doggy Cartoons\n",
            "554               werever2morro\n",
            "592                        Live\n",
            "600           larosadeguadalupe\n",
            "604                   enesbatur\n",
            "606               Kung Fu Padla\n",
            "629                 Super Senya\n",
            "634                    MrDegree\n",
            "680                  Therichest\n",
            "710          MajorLazerOfficial\n",
            "735                 LegendaFUNK\n",
            "762                 harrystyles\n",
            "777                   CrazyFrog\n",
            "853          Blockbuster Movies\n",
            "877                      Einerd\n",
            "951                      jamill\n",
            "983              MoniLinaFamily\n",
            "985                        TKoR\n",
            "Name: Title, dtype: object\n"
          ]
        }
      ]
    }
  ]
}