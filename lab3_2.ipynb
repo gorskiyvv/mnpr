{
  "nbformat": 4,
  "nbformat_minor": 0,
  "metadata": {
    "colab": {
      "provenance": []
    },
    "kernelspec": {
      "name": "python3",
      "display_name": "Python 3"
    },
    "language_info": {
      "name": "python"
    }
  },
  "cells": [
    {
      "cell_type": "markdown",
      "source": [
        "Завдання 1. Прочитайте csv файл (метод read_csv)"
      ],
      "metadata": {
        "id": "vX6loJz0Fgyu"
      }
    },
    {
      "cell_type": "code",
      "execution_count": 2,
      "metadata": {
        "id": "Jerg_NeaER5O"
      },
      "outputs": [],
      "source": [
        "import pandas as pd\n",
        "\n",
        "df = pd.read_csv('/content/bestsellers with categories.csv')"
      ]
    },
    {
      "cell_type": "markdown",
      "source": [
        "Завдання 2. Виведіть перші 10 рядків (метод head)"
      ],
      "metadata": {
        "id": "PZrjEO0dFmw2"
      }
    },
    {
      "cell_type": "code",
      "source": [
        "print(df.head(10))"
      ],
      "metadata": {
        "colab": {
          "base_uri": "https://localhost:8080/"
        },
        "id": "PLWpAidcFtt8",
        "outputId": "0f5f6db4-584d-4d2c-f51c-f9f98b5abbdc"
      },
      "execution_count": 5,
      "outputs": [
        {
          "output_type": "stream",
          "name": "stdout",
          "text": [
            "                                                Name  \\\n",
            "0                      10-Day Green Smoothie Cleanse   \n",
            "1                                  11/22/63: A Novel   \n",
            "2            12 Rules for Life: An Antidote to Chaos   \n",
            "3                             1984 (Signet Classics)   \n",
            "4  5,000 Awesome Facts (About Everything!) (Natio...   \n",
            "5      A Dance with Dragons (A Song of Ice and Fire)   \n",
            "6  A Game of Thrones / A Clash of Kings / A Storm...   \n",
            "7                     A Gentleman in Moscow: A Novel   \n",
            "8      A Higher Loyalty: Truth, Lies, and Leadership   \n",
            "9                          A Man Called Ove: A Novel   \n",
            "\n",
            "                     Author  User Rating  Reviews  Price  Year        Genre  \n",
            "0                  JJ Smith          4.7    17350      8  2016  Non Fiction  \n",
            "1              Stephen King          4.6     2052     22  2011      Fiction  \n",
            "2        Jordan B. Peterson          4.7    18979     15  2018  Non Fiction  \n",
            "3             George Orwell          4.7    21424      6  2017      Fiction  \n",
            "4  National Geographic Kids          4.8     7665     12  2019  Non Fiction  \n",
            "5       George R. R. Martin          4.4    12643     11  2011      Fiction  \n",
            "6       George R. R. Martin          4.7    19735     30  2014      Fiction  \n",
            "7               Amor Towles          4.7    19699     15  2017      Fiction  \n",
            "8               James Comey          4.7     5983      3  2018  Non Fiction  \n",
            "9           Fredrik Backman          4.6    23848      8  2016      Fiction  \n"
          ]
        }
      ]
    },
    {
      "cell_type": "markdown",
      "source": [
        "Завдання 3. Виведіть розміри датасету (метод shape)"
      ],
      "metadata": {
        "id": "MbHpIwmVF4Rt"
      }
    },
    {
      "cell_type": "code",
      "source": [
        "print(df.shape)\n",
        "print(\"Датасет зберігає дані про\", df.shape[0], \"книг.\")\n"
      ],
      "metadata": {
        "colab": {
          "base_uri": "https://localhost:8080/"
        },
        "id": "np-rQEAKF3sk",
        "outputId": "7f332f2b-e8d9-435c-c0c9-aeb51a963676"
      },
      "execution_count": 8,
      "outputs": [
        {
          "output_type": "stream",
          "name": "stdout",
          "text": [
            "(550, 7)\n",
            "Датасет зберігає дані про 550 книг.\n"
          ]
        }
      ]
    },
    {
      "cell_type": "markdown",
      "source": [
        "Завдання 4. Змініть назви всіх колонок: назва з маленької букви, без пробілів через підкреслення."
      ],
      "metadata": {
        "id": "lkqcBdd2GU3N"
      }
    },
    {
      "cell_type": "code",
      "source": [
        "df.columns = ['name', 'author', 'user_rating', 'reviews', 'price', 'year', 'genre']"
      ],
      "metadata": {
        "id": "hi0eUKizGahZ"
      },
      "execution_count": 9,
      "outputs": []
    },
    {
      "cell_type": "markdown",
      "source": [
        "Завдання 5. Вивести кількість пропусків у кожному стовпчику."
      ],
      "metadata": {
        "id": "8a7ODBosGb38"
      }
    },
    {
      "cell_type": "code",
      "source": [
        "print(df.isnull().sum())\n",
        "print(\"Чи є в якихось змінних пропуски?\", \"Так\" if df.isnull().sum().sum() > 0 else \"Ні\")"
      ],
      "metadata": {
        "colab": {
          "base_uri": "https://localhost:8080/"
        },
        "id": "aBr1kcVuGgBn",
        "outputId": "1655f520-1476-4c1a-f136-9bacecd56513"
      },
      "execution_count": 10,
      "outputs": [
        {
          "output_type": "stream",
          "name": "stdout",
          "text": [
            "name           0\n",
            "author         0\n",
            "user_rating    0\n",
            "reviews        0\n",
            "price          0\n",
            "year           0\n",
            "genre          0\n",
            "dtype: int64\n",
            "Чи є в якихось змінних пропуски? Ні\n"
          ]
        }
      ]
    },
    {
      "cell_type": "markdown",
      "source": [
        "Завдання 6. За допомогою методу unique  перевірте. Які є унікальні жанри в стовпці genre  "
      ],
      "metadata": {
        "id": "C3Nh2z-1GnPx"
      }
    },
    {
      "cell_type": "code",
      "source": [
        "print(\"Унікальні жанри:\", df['genre'].unique())"
      ],
      "metadata": {
        "colab": {
          "base_uri": "https://localhost:8080/"
        },
        "id": "KxYCFUYDGrQw",
        "outputId": "971ea8a2-da1d-4d88-c184-208eb1ef48fd"
      },
      "execution_count": 11,
      "outputs": [
        {
          "output_type": "stream",
          "name": "stdout",
          "text": [
            "Унікальні жанри: ['Non Fiction' 'Fiction']\n"
          ]
        }
      ]
    },
    {
      "cell_type": "markdown",
      "source": [
        "Завдання 7. Визначте максимальну, мінімальну, медіанну ціну за допомогою методів  max, min, mean, median"
      ],
      "metadata": {
        "id": "CI6nyKWNGv15"
      }
    },
    {
      "cell_type": "code",
      "source": [
        "print(\"Максимальна ціна:\", df['price'].max())\n",
        "print(\"Мінімальна ціна:\", df['price'].min())\n",
        "print(\"Середня ціна:\", df['price'].mean())\n",
        "print(\"Медіанна ціна:\", df['price'].median())"
      ],
      "metadata": {
        "colab": {
          "base_uri": "https://localhost:8080/"
        },
        "id": "vUz3MqmTG18H",
        "outputId": "9d22770d-f205-4051-be24-b75e6d9f37af"
      },
      "execution_count": 12,
      "outputs": [
        {
          "output_type": "stream",
          "name": "stdout",
          "text": [
            "Максимальна ціна: 105\n",
            "Мінімальна ціна: 0\n",
            "Середня ціна: 13.1\n",
            "Медіанна ціна: 11.0\n"
          ]
        }
      ]
    },
    {
      "cell_type": "markdown",
      "source": [
        "Завдання 8. Виконайте наступні завдання з пошуку і сортування даних"
      ],
      "metadata": {
        "id": "uTUfCBStGyqw"
      }
    },
    {
      "cell_type": "code",
      "source": [
        "print(\"Найвищий рейтинг у датасеті:\", df['user_rating'].max())\n",
        "print(\"Кількість книг з найвищим рейтингом:\", (df['user_rating'] == df['user_rating'].max()).sum())\n",
        "most_reviews = df[df['reviews'] == df['reviews'].max()]['name'].iloc[0]\n",
        "print(\"Книга з найбільшою кількістю відгуків:\", most_reviews)\n",
        "mostexpensive2010 = df[df['year'] == 2010].sort_values(by='price', ascending=False)['name'].iloc[0]\n",
        "print(\"Найдорожча книга 2010 року:\", mostexpensive2010)\n",
        "print(\"Кількість книг жанру Fiction у 2012 році:\", df[(df['year'] == 2012) & (df['genre'] == 'Fiction')].shape[0])\n",
        "print(\"Книг з рейтингом 4.9 у 2010 та 2011 роках:\", df[(df['user_rating'] == 4.9) & (df['year'].isin([2010, 2011]))].shape[0])"
      ],
      "metadata": {
        "colab": {
          "base_uri": "https://localhost:8080/"
        },
        "id": "BALG7fN0G73R",
        "outputId": "2685373b-6b76-4145-ef33-b07306a5aac4"
      },
      "execution_count": 13,
      "outputs": [
        {
          "output_type": "stream",
          "name": "stdout",
          "text": [
            "Найвищий рейтинг у датасеті: 4.9\n",
            "Кількість книг з найвищим рейтингом: 52\n",
            "Книга з найбільшою кількістю відгуків: Where the Crawdads Sing\n",
            "Найдорожча книга 2010 року: Publication Manual of the American Psychological Association, 6th Edition\n",
            "Кількість книг жанру Fiction у 2012 році: 21\n",
            "Книг з рейтингом 4.9 у 2010 та 2011 роках: 1\n"
          ]
        }
      ]
    },
    {
      "cell_type": "markdown",
      "source": [
        "Завдання 9. Вивести максимальну і  мінімальну ціну для жанру Fiction I NonFiction"
      ],
      "metadata": {
        "id": "EJRNDFVSHVnJ"
      }
    },
    {
      "cell_type": "code",
      "source": [
        "price_stats = df.groupby('genre')['price'].agg(['max', 'min'])\n",
        "print(price_stats)"
      ],
      "metadata": {
        "colab": {
          "base_uri": "https://localhost:8080/"
        },
        "id": "iWtqmCdKHbuz",
        "outputId": "71e4adee-3747-44f8-ea63-6c20d28edc85"
      },
      "execution_count": 14,
      "outputs": [
        {
          "output_type": "stream",
          "name": "stdout",
          "text": [
            "             max  min\n",
            "genre                \n",
            "Fiction       82    0\n",
            "Non Fiction  105    0\n"
          ]
        }
      ]
    }
  ]
}