{
  "nbformat": 4,
  "nbformat_minor": 0,
  "metadata": {
    "colab": {
      "provenance": []
    },
    "kernelspec": {
      "name": "python3",
      "display_name": "Python 3"
    },
    "language_info": {
      "name": "python"
    }
  },
  "cells": [
    {
      "cell_type": "code",
      "execution_count": 2,
      "metadata": {
        "colab": {
          "base_uri": "https://localhost:8080/"
        },
        "id": "sxwtXLDeLC_i",
        "outputId": "5a421e0b-bd8a-47c6-b2a7-bf4a5c1073bc"
      },
      "outputs": [
        {
          "output_type": "stream",
          "name": "stdout",
          "text": [
            "Collecting scikit-surprise\n",
            "  Downloading scikit-surprise-1.1.3.tar.gz (771 kB)\n",
            "\u001b[?25l     \u001b[90m━━━━━━━━━━━━━━━━━━━━━━━━━━━━━━━━━━━━━━━━\u001b[0m \u001b[32m0.0/772.0 kB\u001b[0m \u001b[31m?\u001b[0m eta \u001b[36m-:--:--\u001b[0m\r\u001b[2K     \u001b[91m━━━━\u001b[0m\u001b[91m╸\u001b[0m\u001b[90m━━━━━━━━━━━━━━━━━━━━━━━━━━━━━━━━━━━\u001b[0m \u001b[32m92.2/772.0 kB\u001b[0m \u001b[31m2.7 MB/s\u001b[0m eta \u001b[36m0:00:01\u001b[0m\r\u001b[2K     \u001b[91m━━━━━━━━━━━━━━━━━━━━━━━━━━━━━━━━━━━━━━━\u001b[0m\u001b[91m╸\u001b[0m \u001b[32m768.0/772.0 kB\u001b[0m \u001b[31m12.3 MB/s\u001b[0m eta \u001b[36m0:00:01\u001b[0m\r\u001b[2K     \u001b[90m━━━━━━━━━━━━━━━━━━━━━━━━━━━━━━━━━━━━━━━━\u001b[0m \u001b[32m772.0/772.0 kB\u001b[0m \u001b[31m10.5 MB/s\u001b[0m eta \u001b[36m0:00:00\u001b[0m\n",
            "\u001b[?25h  Preparing metadata (setup.py) ... \u001b[?25l\u001b[?25hdone\n",
            "Requirement already satisfied: joblib>=1.0.0 in /usr/local/lib/python3.10/dist-packages (from scikit-surprise) (1.3.2)\n",
            "Requirement already satisfied: numpy>=1.17.3 in /usr/local/lib/python3.10/dist-packages (from scikit-surprise) (1.23.5)\n",
            "Requirement already satisfied: scipy>=1.3.2 in /usr/local/lib/python3.10/dist-packages (from scikit-surprise) (1.11.3)\n",
            "Building wheels for collected packages: scikit-surprise\n",
            "  Building wheel for scikit-surprise (setup.py) ... \u001b[?25l\u001b[?25hdone\n",
            "  Created wheel for scikit-surprise: filename=scikit_surprise-1.1.3-cp310-cp310-linux_x86_64.whl size=3163341 sha256=7e1d1b53e0fb1012d0c2d26ba3b1cea2b7eace348385ef3a8625d6b38f591eed\n",
            "  Stored in directory: /root/.cache/pip/wheels/a5/ca/a8/4e28def53797fdc4363ca4af740db15a9c2f1595ebc51fb445\n",
            "Successfully built scikit-surprise\n",
            "Installing collected packages: scikit-surprise\n",
            "Successfully installed scikit-surprise-1.1.3\n"
          ]
        }
      ],
      "source": [
        "!pip install scikit-surprise\n",
        "from surprise import Dataset, Reader\n",
        "from surprise import SVD, SVDpp, NMF, KNNBasic, KNNWithMeans\n",
        "from surprise.model_selection import cross_validate, GridSearchCV\n",
        "import matplotlib.pyplot as plt"
      ]
    },
    {
      "cell_type": "markdown",
      "source": [
        "Розробити за допомогою бібліотеки surprise рекомендаційну систему.\n",
        "Використати датасет   movielens-100k  "
      ],
      "metadata": {
        "id": "OBIZFpKgOnvb"
      }
    },
    {
      "cell_type": "code",
      "source": [
        "data = Dataset.load_builtin('ml-100k')"
      ],
      "metadata": {
        "id": "0uml2SEKLs9j"
      },
      "execution_count": 5,
      "outputs": []
    },
    {
      "cell_type": "markdown",
      "source": [
        "Використайте алгоритми SVD, SVDpp, NMF  + ще два на власний вибір."
      ],
      "metadata": {
        "id": "66v0PHGYOqun"
      }
    },
    {
      "cell_type": "code",
      "source": [
        "algorithms = {\n",
        "    'SVD': SVD,\n",
        "    'SVDpp': SVDpp,\n",
        "    'NMF': NMF,\n",
        "    'KNNBasic': KNNBasic,\n",
        "    'KNNWithMeans': KNNWithMeans\n",
        "}\n",
        "\n",
        "results = {}"
      ],
      "metadata": {
        "id": "VUkJS4XgMEoH"
      },
      "execution_count": 6,
      "outputs": []
    },
    {
      "cell_type": "markdown",
      "source": [
        "Обчисліть середнє значення середньоквадратичної помилки RMSE для кожного алгоритму на основі результатів крос-валідації.\n",
        "\n",
        "RMSE вказує на середню помилку у передбаченнях алгоритму.\n",
        "\n",
        "Зазвичай, алгоритм з найменшим значенням RMSE вважається найкращим для даного завдання рекомендації."
      ],
      "metadata": {
        "id": "7hTFMuOZOukS"
      }
    },
    {
      "cell_type": "code",
      "source": [
        "for name, algo in algorithms.items():\n",
        "    cv_results = cross_validate(algo(), data, measures=['RMSE'], cv=5, verbose=True)\n",
        "    results[name] = cv_results['test_rmse'].mean()"
      ],
      "metadata": {
        "colab": {
          "base_uri": "https://localhost:8080/"
        },
        "id": "HvMTEYheMu0z",
        "outputId": "f8d2dd05-4766-4cee-b486-8ec9fab758eb"
      },
      "execution_count": 10,
      "outputs": [
        {
          "output_type": "stream",
          "name": "stdout",
          "text": [
            "Evaluating RMSE of algorithm SVD on 5 split(s).\n",
            "\n",
            "                  Fold 1  Fold 2  Fold 3  Fold 4  Fold 5  Mean    Std     \n",
            "RMSE (testset)    0.9414  0.9308  0.9412  0.9386  0.9388  0.9382  0.0038  \n",
            "Fit time          1.49    1.36    1.34    1.32    1.83    1.47    0.19    \n",
            "Test time         0.23    0.15    0.14    0.21    0.21    0.19    0.04    \n",
            "Evaluating RMSE of algorithm SVDpp on 5 split(s).\n",
            "\n",
            "                  Fold 1  Fold 2  Fold 3  Fold 4  Fold 5  Mean    Std     \n",
            "RMSE (testset)    0.9286  0.9129  0.9167  0.9174  0.9162  0.9184  0.0053  \n",
            "Fit time          27.50   26.74   26.32   26.64   26.47   26.73   0.41    \n",
            "Test time         4.39    5.66    4.07    5.20    4.12    4.69    0.63    \n",
            "Evaluating RMSE of algorithm NMF on 5 split(s).\n",
            "\n",
            "                  Fold 1  Fold 2  Fold 3  Fold 4  Fold 5  Mean    Std     \n",
            "RMSE (testset)    0.9688  0.9553  0.9613  0.9611  0.9711  0.9635  0.0057  \n",
            "Fit time          2.00    2.46    2.22    2.00    2.02    2.14    0.18    \n",
            "Test time         0.16    0.18    0.19    0.10    0.20    0.17    0.04    \n",
            "Computing the msd similarity matrix...\n",
            "Done computing similarity matrix.\n",
            "Computing the msd similarity matrix...\n",
            "Done computing similarity matrix.\n",
            "Computing the msd similarity matrix...\n",
            "Done computing similarity matrix.\n",
            "Computing the msd similarity matrix...\n",
            "Done computing similarity matrix.\n",
            "Computing the msd similarity matrix...\n",
            "Done computing similarity matrix.\n",
            "Evaluating RMSE of algorithm KNNBasic on 5 split(s).\n",
            "\n",
            "                  Fold 1  Fold 2  Fold 3  Fold 4  Fold 5  Mean    Std     \n",
            "RMSE (testset)    0.9780  0.9792  0.9743  0.9912  0.9710  0.9787  0.0068  \n",
            "Fit time          0.33    0.47    0.35    0.33    0.35    0.36    0.05    \n",
            "Test time         2.96    3.92    3.03    3.11    4.13    3.43    0.49    \n",
            "Computing the msd similarity matrix...\n",
            "Done computing similarity matrix.\n",
            "Computing the msd similarity matrix...\n",
            "Done computing similarity matrix.\n",
            "Computing the msd similarity matrix...\n",
            "Done computing similarity matrix.\n",
            "Computing the msd similarity matrix...\n",
            "Done computing similarity matrix.\n",
            "Computing the msd similarity matrix...\n",
            "Done computing similarity matrix.\n",
            "Evaluating RMSE of algorithm KNNWithMeans on 5 split(s).\n",
            "\n",
            "                  Fold 1  Fold 2  Fold 3  Fold 4  Fold 5  Mean    Std     \n",
            "RMSE (testset)    0.9453  0.9586  0.9391  0.9550  0.9504  0.9497  0.0069  \n",
            "Fit time          0.39    0.41    0.38    0.36    0.36    0.38    0.02    \n",
            "Test time         3.16    3.29    4.26    3.21    3.13    3.41    0.43    \n"
          ]
        }
      ]
    },
    {
      "cell_type": "markdown",
      "source": [
        "Виберіть оптимальний алгоритм. Зробіть візуалізацію."
      ],
      "metadata": {
        "id": "aVeGh7h6O_9R"
      }
    },
    {
      "cell_type": "code",
      "source": [
        "names = list(results.keys())\n",
        "values = list(results.values())\n",
        "\n",
        "plt.figure(figsize=(15, 5))\n",
        "plt.bar(names, values)\n",
        "plt.ylabel('RMSE')\n",
        "plt.title('Середньоквадратична помилка для різних алгоритмів')\n",
        "plt.show()"
      ],
      "metadata": {
        "colab": {
          "base_uri": "https://localhost:8080/",
          "height": 468
        },
        "id": "xYmNzx1kMz9_",
        "outputId": "11744c62-4f1c-4345-b5d5-bc8fd6e2647a"
      },
      "execution_count": 11,
      "outputs": [
        {
          "output_type": "display_data",
          "data": {
            "text/plain": [
              "<Figure size 1500x500 with 1 Axes>"
            ],
            "image/png": "[encoded data removed]"
          },
          "metadata": {}
        }
      ]
    },
    {
      "cell_type": "code",
      "source": [
        "best = min(results, key=results.get)\n",
        "print(f'Оптимальний алгоритм: {best} з RMSE = {results[best]}')"
      ],
      "metadata": {
        "colab": {
          "base_uri": "https://localhost:8080/"
        },
        "id": "Mws0_3EGOPoZ",
        "outputId": "9f6a34b4-7bde-4124-a066-ca3db213681d"
      },
      "execution_count": 13,
      "outputs": [
        {
          "output_type": "stream",
          "name": "stdout",
          "text": [
            "Оптимальний алгоритм: SVDpp з RMSE = 0.9183545062225733\n"
          ]
        }
      ]
    },
    {
      "cell_type": "markdown",
      "source": [
        "Висновок:\n",
        "**SVD:**\n",
        "Середнє значення RMSE: 0.9382\n",
        "Середній час підгонки: 1.47 секунди\n",
        "Середній час тестування: 0.19 секунди\n",
        "**SVDpp:**\n",
        "Середнє значення RMSE: 0.9184\n",
        "Середній час підгонки: 26.73 секунди\n",
        "Середній час тестування: 4.69 секунди\n",
        "**NMF:**\n",
        "Середнє значення RMSE: 0.9635\n",
        "Середній час підгонки: 2.14 секунди\n",
        "Середній час тестування: 0.17 секунди\n",
        "**KNNBasic:**\n",
        "Середнє значення RMSE: 0.9787\n",
        "Середній час підгонки: 0.36 секунди\n",
        "Середній час тестування: 3.43 секунди\n",
        "**KNNWithMeans:**\n",
        "Середнє значення RMSE: 0.9497\n",
        "Середній час підгонки: 0.38 секунди\n",
        "Середній час тестування: 3.41 секунди\n",
        "З урахуванням наведених результатів, алгоритм SVDpp демонструє найкращий результат за показником RMSE (0.9184), що робить його оптимальним для цього датасету. Втім, він також має найвищий час підгонки та тестування порівняно з іншими алгоритмами. Це може вказувати на більш складний обчислювальний процес цього алгоритму.\n",
        "Якщо швидкість є важливою, то алгоритм SVD може бути гарною альтернативою, оскільки його RMSE лише трохи вищий (0.9382), але час підгонки та тестування набагато менший."
      ],
      "metadata": {
        "id": "WHDZdUCNPEwu"
      }
    }
  ]
}